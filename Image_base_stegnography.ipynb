{
 "cells": [
  {
   "cell_type": "markdown",
   "metadata": {},
   "source": [
    "# 1. Encoding and Decoding the Image using LSB Steganography"
   ]
  },
  {
   "cell_type": "markdown",
   "metadata": {},
   "source": [
    "### Steganography\n",
    "\n",
    "Steganography is a technique used to hide secret information in a way that no one notices it’s even there. For this project, I am using an image to hide a message. This works because images are made of tiny dots called pixels, and each pixel has some color data (red, green, and blue). We can tweak this data slightly to store our message without making any visible changes to the image.\n",
    "\n",
    "### LSB Steganography\n",
    "\n",
    "LSB stands for **“Least Significant Bit.”** It is the smallest part of the color information for a pixel. By changing this tiny bit, we can hide our message. For example, if the red part of a pixel is `11001100`, changing the last bit (the “least significant” one) to `1` makes it `11001101`. The change is so small that the human eye cannot notice it. \n",
    "\n",
    "[Click me to learn 📚](https://www.researchgate.net/publication/369829880_Hiding_Information_in_Digital_Images_Using_LSB_Steganography_Technique)\n"
   ]
  },
  {
   "cell_type": "markdown",
   "metadata": {},
   "source": [
    "## 1.1. Encode the Message in the Image"
   ]
  },
  {
   "cell_type": "markdown",
   "metadata": {},
   "source": [
    "### Steps for Securing and Hiding the Message\n",
    "\n",
    "#### Securing with a Passcode\n",
    "\n",
    "I hashed a passcode using **SHA-256** to create a secure key. SHA-256 is a cryptographic hash function that generates a 256-bit (32-byte) fixed-length output. This ensures that only someone with the correct passcode can decode the message, as the hash adds a layer of security.\n",
    "\n",
    "SHA-256 is widely used in secure applications due to its strong resistance to attacks and high computational efficiency. For more details on its performance and applications, see:  \n",
    "[A High-Performance Multimem SHA-256 Accelerator for Society 5.0](https://www.researchgate.net/publication/349744176_A_High-Performance_Multimem_SHA-256_Accelerator_for_Society_50)\n",
    "\n",
    "\n",
    "#### 2. Preparing the Message\n",
    "The hashed passcode is added to the start of the secret message. I also add a marker (like the word `\"Ending\"`) to signal the end of the message.\n",
    "\n",
    "#### 3. Converting to Binary\n",
    "The entire message is converted into binary (a long string of 0s and 1s).\n",
    "\n",
    "#### 4. Hiding the Message\n",
    "Each bit of the binary message is stored in the **Least Significant Bit (LSB)** of the pixel colors (red, green, and blue). This process is done pixel by pixel, starting from the top-left corner of the image.\n"
   ]
  },
  {
   "cell_type": "code",
   "execution_count": null,
   "metadata": {},
   "outputs": [],
   "source": [
    "import hashlib\n",
    "from PIL import Image\n",
    "\n",
    "def encode_message_lsb_with_passcode(image_path, secret_text, output_path, passcode):\n",
    "    # Generate a hashed passcode using SHA-256\n",
    "    hashed_passcode = hashlib.sha256(passcode.encode('utf-8')).hexdigest()\n",
    "    \n",
    "    # Append the hashed passcode to the secret text\n",
    "    secret_text = hashed_passcode + secret_text + \"Ending\"\n",
    "    \n",
    "    # Open the image\n",
    "    image = Image.open(image_path).convert(\"RGB\")\n",
    "    pixels = image.load()\n",
    "    \n",
    "    # Convert the secret text to binary (UTF-8 encoding)\n",
    "    binary_secret_text = ''.join(format(byte, '08b') for byte in secret_text.encode('utf-8'))\n",
    "    \n",
    "    # Check if the image can accommodate the secret text\n",
    "    image_capacity = image.width * image.height * 3\n",
    "    if len(binary_secret_text) > image_capacity:\n",
    "        raise ValueError(\"Image does not have sufficient capacity to hide the secret text.\")\n",
    "    \n",
    "    # Hide the secret text in the image\n",
    "    index = 0\n",
    "    for i in range(image.width):\n",
    "        for j in range(image.height):\n",
    "            r, g, b = pixels[i, j]\n",
    "            \n",
    "            # Modify the least significant bit of each color channel\n",
    "            if index < len(binary_secret_text):\n",
    "                r = (r & 0xFE) | int(binary_secret_text[index])\n",
    "                index += 1\n",
    "            if index < len(binary_secret_text):\n",
    "                g = (g & 0xFE) | int(binary_secret_text[index])\n",
    "                index += 1\n",
    "            if index < len(binary_secret_text):\n",
    "                b = (b & 0xFE) | int(binary_secret_text[index])\n",
    "                index += 1\n",
    "            \n",
    "            pixels[i, j] = (r, g, b)\n",
    "            \n",
    "            if index >= len(binary_secret_text):\n",
    "                break\n",
    "        if index >= len(binary_secret_text):\n",
    "            break\n",
    "    \n",
    "    # Save the image with the hidden secret text\n",
    "    image.save(output_path)\n",
    "    print(\"Secret text hidden successfully.\")"
   ]
  },
  {
   "cell_type": "markdown",
   "metadata": {},
   "source": [
    "## 1.2. Decode the message from the image"
   ]
  },
  {
   "cell_type": "markdown",
   "metadata": {},
   "source": [
    "### Steps for Extracting and Decoding the Message\n",
    "\n",
    "#### 1. Extracting the Binary Data\n",
    "The **Least Significant Bits (LSBs)** of the pixel colors are read to reconstruct the binary message.\n",
    "\n",
    "#### 2. Rebuilding the Message\n",
    "The binary data is converted back into readable text.\n",
    "\n",
    "#### 3. Checking the Passcode\n",
    "The first part of the message contains the hashed passcode. If it matches the hash of the user’s input passcode, the message is considered valid.\n",
    "\n",
    "#### 4. Getting the Secret Message\n",
    "Once the passcode is validated, the rest of the message is extracted, and the `\"Ending\"` marker is removed.\n"
   ]
  },
  {
   "cell_type": "code",
   "execution_count": 138,
   "metadata": {},
   "outputs": [],
   "source": [
    "def decode_message_lsb_with_passcode(image_path, passcode):\n",
    "    # Generate a hashed passcode using SHA-256\n",
    "    hashed_passcode = hashlib.sha256(passcode.encode('utf-8')).hexdigest()\n",
    "    \n",
    "    # Open the image\n",
    "    image = Image.open(image_path)\n",
    "    pixels = image.load()\n",
    "    \n",
    "    # Extract the secret text from the image\n",
    "    binary_secret_text = \"\"\n",
    "    for i in range(image.width):\n",
    "        for j in range(image.height):\n",
    "            r, g, b = pixels[i, j]\n",
    "            \n",
    "            # Extract the least significant bit of each color channel\n",
    "            binary_secret_text += str(r & 1)\n",
    "            binary_secret_text += str(g & 1)\n",
    "            binary_secret_text += str(b & 1)\n",
    "    \n",
    "    # Convert the binary text to ASCII\n",
    "    binary_chunks = [binary_secret_text[i:i+8] for i in range(0, len(binary_secret_text), 8)]\n",
    "    secret_text = \"\"\n",
    "    for chunk in binary_chunks:\n",
    "        char = chr(int(chunk, 2))\n",
    "        secret_text += char\n",
    "        if secret_text.endswith(\"Ending\"):\n",
    "            break\n",
    "    \n",
    "    # Remove the delimiter\n",
    "    extracted_passcode = secret_text[:64]  # Extract the first 64 characters (hashed passcode)\n",
    "    if extracted_passcode != hashed_passcode:\n",
    "        raise ValueError(\"Incorrect passcode.\")\n",
    "    \n",
    "    return secret_text[64:].replace(\"Ending\", \"\")  # Remove the passcode and delimiter"
   ]
  },
  {
   "cell_type": "markdown",
   "metadata": {},
   "source": [
    "### 1.3. Usage of Encoding"
   ]
  },
  {
   "cell_type": "code",
   "execution_count": 139,
   "metadata": {},
   "outputs": [
    {
     "name": "stdout",
     "output_type": "stream",
     "text": [
      "Secret text hidden successfully.\n"
     ]
    }
   ],
   "source": [
    "encode_message_lsb_with_passcode(\"pic1.jpg\", \"hello I am fahad Rafique\", \"passcode_encoded_image.png\", \"fsb78\")"
   ]
  },
  {
   "cell_type": "markdown",
   "metadata": {},
   "source": [
    "### 1.4. Usage of Decoding"
   ]
  },
  {
   "cell_type": "code",
   "execution_count": 140,
   "metadata": {},
   "outputs": [
    {
     "name": "stdout",
     "output_type": "stream",
     "text": [
      "Decoded message: hello I am fahad Rafique\n"
     ]
    }
   ],
   "source": [
    "decoded_message = decode_message_lsb_with_passcode(\"passcode_encoded_image.png\", \"fsb78\")\n",
    "print(\"Decoded message:\", decoded_message)"
   ]
  }
 ],
 "metadata": {
  "kernelspec": {
   "display_name": "CC",
   "language": "python",
   "name": "python3"
  },
  "language_info": {
   "codemirror_mode": {
    "name": "ipython",
    "version": 3
   },
   "file_extension": ".py",
   "mimetype": "text/x-python",
   "name": "python",
   "nbconvert_exporter": "python",
   "pygments_lexer": "ipython3",
   "version": "3.9.21"
  }
 },
 "nbformat": 4,
 "nbformat_minor": 2
}
